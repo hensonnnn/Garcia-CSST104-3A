{
  "nbformat": 4,
  "nbformat_minor": 0,
  "metadata": {
    "colab": {
      "provenance": []
    },
    "kernelspec": {
      "name": "python3",
      "display_name": "Python 3"
    },
    "language_info": {
      "name": "python"
    }
  },
  "cells": [
    {
      "cell_type": "markdown",
      "source": [
        "# **NFA to DFA conversion using Epsilon Closures and Subset Construction**"
      ],
      "metadata": {
        "id": "bK3yBTaZvRJI"
      }
    },
    {
      "cell_type": "markdown",
      "source": [
        "**1. espsilon_closures**"
      ],
      "metadata": {
        "id": "83YqbtplvbjO"
      }
    },
    {
      "cell_type": "code",
      "source": [
        "def epsilon_closure(states, transitions):\n",
        "  epsilon_states =set(states)\n",
        "  stack = list(states)\n",
        "\n",
        "  while stack:\n",
        "    state = stack.pop()\n",
        "    if 'ε' in transitions[state]:\n",
        "      epsilon_states |= transitions[state]['ε'] - epsilon_states\n",
        "      stack.extend(transitions[state]['ε'] - epsilon_states)\n",
        "\n",
        "  return epsilon_states\n"
      ],
      "metadata": {
        "id": "5qiQIN42vkc-"
      },
      "execution_count": null,
      "outputs": []
    },
    {
      "cell_type": "markdown",
      "source": [
        "**2. move(states, symbol, transitions)**"
      ],
      "metadata": {
        "id": "C3SFkhx_w18b"
      }
    },
    {
      "cell_type": "code",
      "source": [
        "def move(states, symbol, transitions):\n",
        "\n",
        "  return {s for state in states for s in transitions[state].get(symbol, set())}"
      ],
      "metadata": {
        "id": "LsRkLq1Hw6g9"
      },
      "execution_count": null,
      "outputs": []
    },
    {
      "cell_type": "markdown",
      "source": [
        "**3. NFA to DFA(nfa_states, nfa_transitions)**"
      ],
      "metadata": {
        "id": "7icFcMR8xZnp"
      }
    },
    {
      "cell_type": "code",
      "source": [
        "def nfa_to_dfa(nfa_states, nfa_transitions):\n",
        "  dfa_states = []\n",
        "  dfa_transitions = {}\n",
        "  queue = []\n",
        "\n",
        "  q0_epsilon_closure = epsilon_closure({'q0'},nfa_transitions)\n",
        "  dfa_states.append(q0_epsilon_closure)\n",
        "  queue.append(q0_epsilon_closure)\n",
        "\n",
        "  while queue:\n",
        "    current_states = queue.pop(0)\n",
        "\n",
        "    for symbol in nfa_states['input_symbols']:\n",
        "      next_states = epsilon_closure(move(current_states,symbol,nfa_transitions),nfa_transitions)\n",
        "      if next_states:\n",
        "        if next_states not in dfa_states:\n",
        "          dfa_states.append(next_states)\n",
        "          queue.append(next_states)\n",
        "        dfa_transitions.setdefault(tuple(current_states),{})[symbol]=next_states\n",
        "\n",
        "  return dfa_states, dfa_transitions"
      ],
      "metadata": {
        "id": "vbK7t7uMxeP8"
      },
      "execution_count": null,
      "outputs": []
    },
    {
      "cell_type": "markdown",
      "source": [
        "**4. NFA states and transitions**"
      ],
      "metadata": {
        "id": "GKdm1Bv5yrtZ"
      }
    },
    {
      "cell_type": "code",
      "source": [
        "nfa_states = {\n",
        "    'input_symbols': {'0','1'},\n",
        "\n",
        "}\n",
        "nfa_transitions = {\n",
        "    'q0':{'0':{'q0','q1'}, '1':{'q1'}},\n",
        "    'q1':{'1':{'q0','q1'}},\n",
        "}"
      ],
      "metadata": {
        "id": "fXdKukllytmz"
      },
      "execution_count": null,
      "outputs": []
    },
    {
      "cell_type": "markdown",
      "source": [
        "**5. Convert NFA to DFA**"
      ],
      "metadata": {
        "id": "mpih0snyyu8z"
      }
    },
    {
      "cell_type": "code",
      "source": [
        "dfa_states, dfa_transitions = nfa_to_dfa(nfa_states, nfa_transitions)"
      ],
      "metadata": {
        "id": "u0F2bnatyxW5"
      },
      "execution_count": null,
      "outputs": []
    },
    {
      "cell_type": "markdown",
      "source": [
        "**6. Display DFA States and Transitions**"
      ],
      "metadata": {
        "id": "sFqt2SHoyz0O"
      }
    },
    {
      "cell_type": "code",
      "source": [
        "print(\"DFA States:\", dfa_states)\n",
        "print(\"DFA Transitions:\", dfa_transitions)"
      ],
      "metadata": {
        "colab": {
          "base_uri": "https://localhost:8080/"
        },
        "id": "H2QoN9aLy2wz",
        "outputId": "e8695b70-6954-43bd-bc4e-869bcc895460"
      },
      "execution_count": null,
      "outputs": [
        {
          "output_type": "stream",
          "name": "stdout",
          "text": [
            "DFA States: [{'q0'}, {'q1'}, {'q0', 'q1'}]\n",
            "DFA Transitions: {('q0',): {'1': {'q1'}, '0': {'q0', 'q1'}}, ('q1',): {'1': {'q0', 'q1'}}, ('q0', 'q1'): {'1': {'q0', 'q1'}, '0': {'q0', 'q1'}}}\n"
          ]
        }
      ]
    }
  ]
}