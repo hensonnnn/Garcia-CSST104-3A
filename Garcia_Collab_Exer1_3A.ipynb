{
  "nbformat": 4,
  "nbformat_minor": 0,
  "metadata": {
    "colab": {
      "provenance": []
    },
    "kernelspec": {
      "name": "python3",
      "display_name": "Python 3"
    },
    "language_info": {
      "name": "python"
    }
  },
  "cells": [
    {
      "cell_type": "markdown",
      "source": [
        "# **Creating and Testing a Non-Deterministic Finite Automata (NFA) in Python using automata-lib**"
      ],
      "metadata": {
        "id": "UDKFp69gP-H0"
      }
    },
    {
      "cell_type": "markdown",
      "source": [
        "**1. Install the latest version of Automata Library **"
      ],
      "metadata": {
        "id": "acWxzRy2QzOp"
      }
    },
    {
      "cell_type": "code",
      "execution_count": null,
      "metadata": {
        "colab": {
          "base_uri": "https://localhost:8080/"
        },
        "id": "zmo0Sl0wPeEI",
        "outputId": "52d3f7f7-755b-4553-ae8a-6ab8b5ad66ac"
      },
      "outputs": [
        {
          "output_type": "stream",
          "name": "stdout",
          "text": [
            "Collecting automata-lib\n",
            "  Downloading automata_lib-8.1.0-py3-none-any.whl (106 kB)\n",
            "\u001b[?25l     \u001b[90m━━━━━━━━━━━━━━━━━━━━━━━━━━━━━━━━━━━━━━━━\u001b[0m \u001b[32m0.0/106.5 kB\u001b[0m \u001b[31m?\u001b[0m eta \u001b[36m-:--:--\u001b[0m\r\u001b[2K     \u001b[91m━━━━━━━━━━━━━━━━━━━━━━━\u001b[0m\u001b[90m╺\u001b[0m\u001b[90m━━━━━━━━━━━━━━━━\u001b[0m \u001b[32m61.4/106.5 kB\u001b[0m \u001b[31m1.5 MB/s\u001b[0m eta \u001b[36m0:00:01\u001b[0m\r\u001b[2K     \u001b[90m━━━━━━━━━━━━━━━━━━━━━━━━━━━━━━━━━━━━━━━━\u001b[0m \u001b[32m106.5/106.5 kB\u001b[0m \u001b[31m1.7 MB/s\u001b[0m eta \u001b[36m0:00:00\u001b[0m\n",
            "\u001b[?25hRequirement already satisfied: networkx>=2.6.2 in /usr/local/lib/python3.10/dist-packages (from automata-lib) (3.2.1)\n",
            "Requirement already satisfied: frozendict>=2.3.4 in /usr/local/lib/python3.10/dist-packages (from automata-lib) (2.3.10)\n",
            "Requirement already satisfied: typing-extensions>=4.5.0 in /usr/local/lib/python3.10/dist-packages (from automata-lib) (4.5.0)\n",
            "Collecting cached-method>=0.1.0 (from automata-lib)\n",
            "  Downloading cached_method-0.1.0-py3-none-any.whl (4.2 kB)\n",
            "Installing collected packages: cached-method, automata-lib\n",
            "Successfully installed automata-lib-8.1.0 cached-method-0.1.0\n"
          ]
        }
      ],
      "source": [
        "pip install automata-lib"
      ]
    },
    {
      "cell_type": "markdown",
      "source": [
        "**2. import the DFA class from the automata.fa.dfa. module**"
      ],
      "metadata": {
        "id": "8xY9Rt0iRkgQ"
      }
    },
    {
      "cell_type": "code",
      "source": [
        "from automata.fa.nfa import NFA"
      ],
      "metadata": {
        "id": "OSk8GhnfRzcR"
      },
      "execution_count": null,
      "outputs": []
    },
    {
      "cell_type": "markdown",
      "source": [
        "**3. Define the NFA with its states.**\n",
        "\n",
        "\n",
        "*   **states:**\n",
        "*   **input symbols:**\n",
        "*   **transitions:**\n",
        "*   **initial states:**\n",
        "*   **final states:**\n",
        "![Garcia-Collab-Exer1-3A.jff.png](data:image/png;base64,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)\n",
        "\n"
      ],
      "metadata": {
        "id": "qSpY36ZLSMrd"
      }
    },
    {
      "cell_type": "code",
      "source": [
        "nfa_example = NFA(\n",
        "    states={'q0','q1','q2'},\n",
        "    input_symbols={'0','1'},\n",
        "    transitions={\n",
        "        'q0': {'0':{'q0','q1'}},\n",
        "        'q1': {'1':{'q2'}},\n",
        "        'q2': {},\n",
        "       },\n",
        "    initial_state='q0',\n",
        "    final_states={'q0','q2'}\n",
        ")"
      ],
      "metadata": {
        "id": "V9y8s3fpSm1o"
      },
      "execution_count": null,
      "outputs": []
    },
    {
      "cell_type": "markdown",
      "source": [
        "***4. Define a functions is_accepted to check if a given input string is accepted by the NFA ***"
      ],
      "metadata": {
        "id": "a-JvaucdVSki"
      }
    },
    {
      "cell_type": "code",
      "source": [
        "def is_accepted_example(input_str):\n",
        "\n",
        "  return nfa_example.accepts_input(input_str)"
      ],
      "metadata": {
        "id": "9y5IKH5JVlq7"
      },
      "execution_count": null,
      "outputs": []
    },
    {
      "cell_type": "markdown",
      "source": [
        "**5. Test the NFA with a list of strings **"
      ],
      "metadata": {
        "id": "RvTykqD6WA3_"
      }
    },
    {
      "cell_type": "code",
      "source": [
        "test_strings = ['010', '1001', '001', '111', '0101']\n",
        "\n",
        "for test_str in test_strings:\n",
        "  if is_accepted_example(test_str):\n",
        "    print(f'String \"{test_str}\" is accepted.')\n",
        "  else:\n",
        "    print(f'String \"{test_str}\" is not accepted.')"
      ],
      "metadata": {
        "colab": {
          "base_uri": "https://localhost:8080/"
        },
        "id": "UNCEA-ABWE79",
        "outputId": "58b135b6-ee78-4713-f251-3b0dd365b605"
      },
      "execution_count": null,
      "outputs": [
        {
          "output_type": "stream",
          "name": "stdout",
          "text": [
            "String \"010\" is not accepted.\n",
            "String \"1001\" is not accepted.\n",
            "String \"001\" is accepted.\n",
            "String \"111\" is not accepted.\n",
            "String \"0101\" is not accepted.\n"
          ]
        }
      ]
    }
  ]
}