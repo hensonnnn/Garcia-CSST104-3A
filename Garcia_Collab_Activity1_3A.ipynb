{
  "nbformat": 4,
  "nbformat_minor": 0,
  "metadata": {
    "colab": {
      "provenance": []
    },
    "kernelspec": {
      "name": "python3",
      "display_name": "Python 3"
    },
    "language_info": {
      "name": "python"
    }
  },
  "cells": [
    {
      "cell_type": "markdown",
      "source": [
        "# **Creating and Testing a Non-Deterministic Finite Automata (NFA) in Python using automata-lib** Activity One![Garcia-Collab-Activity1-3A.png](data:image/png;base64,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)"
      ],
      "metadata": {
        "id": "d0-u3PXfdatt"
      }
    },
    {
      "cell_type": "markdown",
      "source": [
        "**1. Install the latest version of Automata Library **"
      ],
      "metadata": {
        "id": "H7GJlcw5drOP"
      }
    },
    {
      "cell_type": "code",
      "execution_count": null,
      "metadata": {
        "id": "JlAN24cbdA_p",
        "colab": {
          "base_uri": "https://localhost:8080/"
        },
        "outputId": "7b30fda6-6f2c-4687-d608-3a4270f5b037"
      },
      "outputs": [
        {
          "output_type": "stream",
          "name": "stdout",
          "text": [
            "Requirement already satisfied: automata-lib in /usr/local/lib/python3.10/dist-packages (8.1.0)\n",
            "Requirement already satisfied: networkx>=2.6.2 in /usr/local/lib/python3.10/dist-packages (from automata-lib) (3.2.1)\n",
            "Requirement already satisfied: frozendict>=2.3.4 in /usr/local/lib/python3.10/dist-packages (from automata-lib) (2.3.10)\n",
            "Requirement already satisfied: typing-extensions>=4.5.0 in /usr/local/lib/python3.10/dist-packages (from automata-lib) (4.5.0)\n",
            "Requirement already satisfied: cached-method>=0.1.0 in /usr/local/lib/python3.10/dist-packages (from automata-lib) (0.1.0)\n"
          ]
        }
      ],
      "source": [
        "pip install automata-lib"
      ]
    },
    {
      "cell_type": "markdown",
      "source": [
        "**2. import the DFA class from the automata.fa.dfa. module**"
      ],
      "metadata": {
        "id": "WCdcL8Vyd3MG"
      }
    },
    {
      "cell_type": "code",
      "source": [
        "from automata.fa.nfa import NFA"
      ],
      "metadata": {
        "id": "fBq9HX_hd44N"
      },
      "execution_count": null,
      "outputs": []
    },
    {
      "cell_type": "markdown",
      "source": [
        "**3. Define the NFA with its states.**\n",
        "\n",
        "\n",
        "*   **states:**\n",
        "*   **input symbols:**\n",
        "*   **transitions:**\n",
        "*   **initial states:**\n",
        "*   **final states:**\n",
        "![Garcia-Collab-Activity1-3A.png](data:image/png;base64,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)\n"
      ],
      "metadata": {
        "id": "nJACmCNud5_Z"
      }
    },
    {
      "cell_type": "code",
      "source": [
        "nfa_example = NFA(\n",
        "    states={'q0','q1','q2'},\n",
        "    input_symbols={'0','1'},\n",
        "    transitions={\n",
        "        'q0': {'0':{'q0','q1'}},\n",
        "        'q1': {'0':{'q1','q2'}},\n",
        "        'q1': {'1':{'q2'}},\n",
        "        'q2': {'0':{'q2'}},\n",
        "       },\n",
        "    initial_state='q0',\n",
        "    final_states={'q0','q2'}\n",
        ")"
      ],
      "metadata": {
        "id": "e8_57eDKeH1Q"
      },
      "execution_count": null,
      "outputs": []
    },
    {
      "cell_type": "markdown",
      "source": [
        "***4. Define a functions is_accepted to check if a given input string is accepted by the DFA ***"
      ],
      "metadata": {
        "id": "nUh7og8wfH0n"
      }
    },
    {
      "cell_type": "code",
      "source": [
        "def is_accepted_example(input_str):\n",
        "\n",
        "  return nfa_example.accepts_input(input_str)"
      ],
      "metadata": {
        "id": "m4XzdEWTfKQV"
      },
      "execution_count": null,
      "outputs": []
    },
    {
      "cell_type": "markdown",
      "source": [
        "**5. Test the DFA with a list of strings **"
      ],
      "metadata": {
        "id": "oZ65cSEufMDI"
      }
    },
    {
      "cell_type": "code",
      "source": [
        "test_strings = ['0010', '11001', '001', '0101', '100', '101', '1110']\n",
        "\n",
        "for test_str in test_strings:\n",
        "  if is_accepted_example(test_str):\n",
        "    print(f'String \"{test_str}\" is accepted.')\n",
        "  else:\n",
        "    print(f'String \"{test_str}\" is not accepted.')"
      ],
      "metadata": {
        "colab": {
          "base_uri": "https://localhost:8080/"
        },
        "id": "srNJVKc8fOWW",
        "outputId": "7d0fafe9-92ad-4ee6-cd07-75947140ffce"
      },
      "execution_count": null,
      "outputs": [
        {
          "output_type": "stream",
          "name": "stdout",
          "text": [
            "String \"0010\" is accepted.\n",
            "String \"11001\" is not accepted.\n",
            "String \"001\" is accepted.\n",
            "String \"0101\" is not accepted.\n",
            "String \"100\" is not accepted.\n",
            "String \"101\" is not accepted.\n",
            "String \"1110\" is not accepted.\n"
          ]
        }
      ]
    }
  ]
}