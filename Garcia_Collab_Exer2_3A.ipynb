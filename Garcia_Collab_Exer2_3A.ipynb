{
  "nbformat": 4,
  "nbformat_minor": 0,
  "metadata": {
    "colab": {
      "provenance": []
    },
    "kernelspec": {
      "name": "python3",
      "display_name": "Python 3"
    },
    "language_info": {
      "name": "python"
    }
  },
  "cells": [
    {
      "cell_type": "code",
      "execution_count": null,
      "metadata": {
        "colab": {
          "base_uri": "https://localhost:8080/"
        },
        "id": "yeAVv3DaiOQ1",
        "outputId": "6a28ac11-5111-43a5-984a-3f8ffc6f9e22"
      },
      "outputs": [
        {
          "output_type": "stream",
          "name": "stdout",
          "text": [
            "Collecting automata-lib\n",
            "  Downloading automata_lib-8.1.0-py3-none-any.whl (106 kB)\n",
            "\u001b[?25l     \u001b[90m━━━━━━━━━━━━━━━━━━━━━━━━━━━━━━━━━━━━━━━━\u001b[0m \u001b[32m0.0/106.5 kB\u001b[0m \u001b[31m?\u001b[0m eta \u001b[36m-:--:--\u001b[0m\r\u001b[2K     \u001b[91m━━━━━━━━━━━━━━━━━━━━━━━━━━━━━━━━━━\u001b[0m\u001b[91m╸\u001b[0m\u001b[90m━━━━━\u001b[0m \u001b[32m92.2/106.5 kB\u001b[0m \u001b[31m2.5 MB/s\u001b[0m eta \u001b[36m0:00:01\u001b[0m\r\u001b[2K     \u001b[90m━━━━━━━━━━━━━━━━━━━━━━━━━━━━━━━━━━━━━━━━\u001b[0m \u001b[32m106.5/106.5 kB\u001b[0m \u001b[31m1.9 MB/s\u001b[0m eta \u001b[36m0:00:00\u001b[0m\n",
            "\u001b[?25hRequirement already satisfied: networkx>=2.6.2 in /usr/local/lib/python3.10/dist-packages (from automata-lib) (3.2.1)\n",
            "Requirement already satisfied: frozendict>=2.3.4 in /usr/local/lib/python3.10/dist-packages (from automata-lib) (2.3.10)\n",
            "Requirement already satisfied: typing-extensions>=4.5.0 in /usr/local/lib/python3.10/dist-packages (from automata-lib) (4.5.0)\n",
            "Collecting cached-method>=0.1.0 (from automata-lib)\n",
            "  Downloading cached_method-0.1.0-py3-none-any.whl (4.2 kB)\n",
            "Installing collected packages: cached-method, automata-lib\n",
            "Successfully installed automata-lib-8.1.0 cached-method-0.1.0\n"
          ]
        }
      ],
      "source": [
        "!pip install automata-lib"
      ]
    },
    {
      "cell_type": "markdown",
      "source": [
        "1. Import Lib"
      ],
      "metadata": {
        "id": "jauiliXBqJsL"
      }
    },
    {
      "cell_type": "code",
      "source": [
        "from automata.fa.dfa import DFA"
      ],
      "metadata": {
        "id": "d40cvq3li8Hv"
      },
      "execution_count": null,
      "outputs": []
    },
    {
      "cell_type": "markdown",
      "source": [
        "*2. Define the DFA with its states.**\n",
        "\n",
        "\n",
        "*   **states:**\n",
        "*   **input symbols:**\n",
        "*   **transitions:**\n",
        "*   **initial states:**\n",
        "*   **final states:**\n",
        "![Garcia-Collab-Exer2-3A.jff.png](data:image/png;base64,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)"
      ],
      "metadata": {
        "id": "qajQkjYTjSqx"
      }
    },
    {
      "cell_type": "code",
      "source": [
        "dfa = DFA(\n",
        "    states={'q0','q1'},\n",
        "    input_symbols={'0','1'},\n",
        "    transitions={\n",
        "        'q0': {'0':'q0','1':'q1'},\n",
        "        'q1': {'0':'q1','1':'q0'}\n",
        "       },\n",
        "    initial_state='q0',\n",
        "    final_states={'q0'}\n",
        ")"
      ],
      "metadata": {
        "id": "0XVt40Frjchc"
      },
      "execution_count": null,
      "outputs": []
    },
    {
      "cell_type": "markdown",
      "source": [
        "**3. Define a functions is_accepted**"
      ],
      "metadata": {
        "id": "_rvMkuVYlBUl"
      }
    },
    {
      "cell_type": "code",
      "source": [
        "def is_accepted(input_str):\n",
        "\n",
        "  return dfa.accepts_input(input_str)"
      ],
      "metadata": {
        "id": "qrQJ_2_KlFiE"
      },
      "execution_count": null,
      "outputs": []
    },
    {
      "cell_type": "markdown",
      "source": [
        "**4. Test the DFA**"
      ],
      "metadata": {
        "id": "85AnvOQvlb31"
      }
    },
    {
      "cell_type": "code",
      "source": [
        "test_strings = ['010', '1001', '001', '111', '0101']\n",
        "\n",
        "for test_str in test_strings:\n",
        "  if is_accepted(test_str):\n",
        "    print(f'String \"{test_str}\" is accepted.')\n",
        "  else:\n",
        "    print(f'String \"{test_str}\" is not accepted.')"
      ],
      "metadata": {
        "colab": {
          "base_uri": "https://localhost:8080/"
        },
        "id": "EJbTgaYFldgB",
        "outputId": "df903932-fecc-4411-974c-dc67ce1c1ea1"
      },
      "execution_count": null,
      "outputs": [
        {
          "output_type": "stream",
          "name": "stdout",
          "text": [
            "String \"010\" is not accepted.\n",
            "String \"1001\" is accepted.\n",
            "String \"001\" is not accepted.\n",
            "String \"111\" is not accepted.\n",
            "String \"0101\" is accepted.\n"
          ]
        }
      ]
    }
  ]
}