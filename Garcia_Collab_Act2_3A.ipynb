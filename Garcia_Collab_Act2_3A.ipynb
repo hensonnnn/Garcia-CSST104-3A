{
  "nbformat": 4,
  "nbformat_minor": 0,
  "metadata": {
    "colab": {
      "provenance": []
    },
    "kernelspec": {
      "name": "python3",
      "display_name": "Python 3"
    },
    "language_info": {
      "name": "python"
    }
  },
  "cells": [
    {
      "cell_type": "markdown",
      "source": [
        "**1. import lib**"
      ],
      "metadata": {
        "id": "NeqE3Adwponi"
      }
    },
    {
      "cell_type": "code",
      "execution_count": null,
      "metadata": {
        "colab": {
          "base_uri": "https://localhost:8080/"
        },
        "id": "HeSiCq8RpfYK",
        "outputId": "e6e0517f-a93c-4bda-aac2-38fa388f0fec"
      },
      "outputs": [
        {
          "output_type": "stream",
          "name": "stdout",
          "text": [
            "Collecting automata-lib\n",
            "  Downloading automata_lib-8.1.0-py3-none-any.whl (106 kB)\n",
            "\u001b[?25l     \u001b[90m━━━━━━━━━━━━━━━━━━━━━━━━━━━━━━━━━━━━━━━━\u001b[0m \u001b[32m0.0/106.5 kB\u001b[0m \u001b[31m?\u001b[0m eta \u001b[36m-:--:--\u001b[0m\r\u001b[2K     \u001b[91m━━━━━━━━━━━━━━━\u001b[0m\u001b[90m╺\u001b[0m\u001b[90m━━━━━━━━━━━━━━━━━━━━━━━━\u001b[0m \u001b[32m41.0/106.5 kB\u001b[0m \u001b[31m981.8 kB/s\u001b[0m eta \u001b[36m0:00:01\u001b[0m\r\u001b[2K     \u001b[91m━━━━━━━━━━━━━━━━━━━━━━━━━━━━━━━━━━━━━━\u001b[0m\u001b[90m╺\u001b[0m\u001b[90m━\u001b[0m \u001b[32m102.4/106.5 kB\u001b[0m \u001b[31m1.6 MB/s\u001b[0m eta \u001b[36m0:00:01\u001b[0m\r\u001b[2K     \u001b[90m━━━━━━━━━━━━━━━━━━━━━━━━━━━━━━━━━━━━━━━━\u001b[0m \u001b[32m106.5/106.5 kB\u001b[0m \u001b[31m1.3 MB/s\u001b[0m eta \u001b[36m0:00:00\u001b[0m\n",
            "\u001b[?25hRequirement already satisfied: networkx>=2.6.2 in /usr/local/lib/python3.10/dist-packages (from automata-lib) (3.2.1)\n",
            "Requirement already satisfied: frozendict>=2.3.4 in /usr/local/lib/python3.10/dist-packages (from automata-lib) (2.3.10)\n",
            "Requirement already satisfied: typing-extensions>=4.5.0 in /usr/local/lib/python3.10/dist-packages (from automata-lib) (4.5.0)\n",
            "Collecting cached-method>=0.1.0 (from automata-lib)\n",
            "  Downloading cached_method-0.1.0-py3-none-any.whl (4.2 kB)\n",
            "Installing collected packages: cached-method, automata-lib\n",
            "Successfully installed automata-lib-8.1.0 cached-method-0.1.0\n"
          ]
        }
      ],
      "source": [
        "!pip install automata-lib"
      ]
    },
    {
      "cell_type": "code",
      "source": [
        "from automata.fa.dfa import DFA"
      ],
      "metadata": {
        "id": "yd0oB8ODrSUC"
      },
      "execution_count": null,
      "outputs": []
    },
    {
      "cell_type": "markdown",
      "source": [
        "*2. Define the DFA with its states.**\n",
        "\n",
        "\n",
        "*   **states:**\n",
        "*   **input symbols:**\n",
        "*   **transitions:**\n",
        "*   **initial states:**\n",
        "*   **final states:**\n",
        "![Garcia-Collab-Act2-3A.jff.png](data:image/png;base64,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)\n"
      ],
      "metadata": {
        "id": "SunE_pC4rKVu"
      }
    },
    {
      "cell_type": "code",
      "source": [
        "dfa = DFA(\n",
        "    states={'q0','q1','q2'},\n",
        "    input_symbols={'0','1'},\n",
        "    transitions={\n",
        "        'q0': {'0':'q1','1':'q1'},\n",
        "        'q1': {'0':'q1','1':'q2'},\n",
        "        'q2': {'0':'q2','1':'q1'},\n",
        "       },\n",
        "    initial_state='q0',\n",
        "    final_states={'q0','q1','q2'}\n",
        ")"
      ],
      "metadata": {
        "id": "rdFZ0OCErqVk"
      },
      "execution_count": null,
      "outputs": []
    },
    {
      "cell_type": "markdown",
      "source": [
        "**3. Define a functions is_accepted**"
      ],
      "metadata": {
        "id": "139tKIftuUVm"
      }
    },
    {
      "cell_type": "code",
      "source": [
        "def is_accepted(input_str):\n",
        "\n",
        "  return dfa.accepts_input(input_str)"
      ],
      "metadata": {
        "id": "R09n5u9juWbv"
      },
      "execution_count": null,
      "outputs": []
    },
    {
      "cell_type": "markdown",
      "source": [
        "**4. Test the DFA**"
      ],
      "metadata": {
        "id": "8lfWGP0GuafA"
      }
    },
    {
      "cell_type": "code",
      "source": [
        "test_strings = ['010', '1001', '001', '111', '0101']\n",
        "\n",
        "for test_str in test_strings:\n",
        "  if is_accepted(test_str):\n",
        "    print(f'String \"{test_str}\" is accepted.')\n",
        "  else:\n",
        "    print(f'String \"{test_str}\" is not accepted.')"
      ],
      "metadata": {
        "colab": {
          "base_uri": "https://localhost:8080/"
        },
        "id": "Dp6VylQAucdX",
        "outputId": "4a11a704-468a-4031-f1e7-5237c2349fd4"
      },
      "execution_count": null,
      "outputs": [
        {
          "output_type": "stream",
          "name": "stdout",
          "text": [
            "String \"010\" is accepted.\n",
            "String \"1001\" is accepted.\n",
            "String \"001\" is accepted.\n",
            "String \"111\" is accepted.\n",
            "String \"0101\" is accepted.\n"
          ]
        }
      ]
    }
  ]
}